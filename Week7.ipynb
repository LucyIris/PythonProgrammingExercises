{
 "cells": [
  {
   "cell_type": "markdown",
   "metadata": {},
   "source": [
    "## Week 7: Pair Programming using Objects and Classes\n",
    "\n",
    "This session will be based around the `Bus` class below. When we create a bus object from this class we specify the kind of fuel the bus uses (eco or diesel), and how many litres of fuel it starts with."
   ]
  },
  {
   "cell_type": "code",
   "execution_count": null,
   "metadata": {},
   "outputs": [],
   "source": [
    "import numpy as np\n",
    "\n",
    "class Bus:\n",
    "    fuel_usage_per_mile = {'diesel':1.5, 'eco': 0.5 }\n",
    "    \n",
    "    def __init__(self, fuel_type, initial_fuel = 0.0):\n",
    "        self.fuel_type = fuel_type\n",
    "        self.fuel = initial_fuel\n",
    "        self.passengers = 0\n",
    "        \n",
    "    def drive_1_mile(self):\n",
    "        if self.has_fuel_to_drive_a_mile():\n",
    "            self.fuel -= self.fuel_usage_per_mile[self.fuel_type]\n",
    "            \n",
    "    def has_fuel_to_drive_a_mile(self):\n",
    "        return self.fuel >= self.fuel_usage_per_mile[self.fuel_type] \n",
    "        \n",
    "    def drive_miles(self, amount_of_miles):\n",
    "        for _ in range(amount_of_miles):\n",
    "            if self.has_fuel_to_drive_a_mile():\n",
    "                self.drive_1_mile()\n",
    "            else:\n",
    "                break\n",
    "                \n",
    "    def __repr__(self):\n",
    "        return f\"Bus {self.fuel_type} has {self.passengers} passengers and {self.fuel} litres of fuel of left\""
   ]
  },
  {
   "cell_type": "markdown",
   "metadata": {},
   "source": [
    "Let's create a bus that uses diesel as its fuel source, and starts with 100 litres of fuel. Then, let's drive the bus for 10 miles. We can use `assert` statements to check the behaviour is as expected."
   ]
  },
  {
   "cell_type": "code",
   "execution_count": null,
   "metadata": {},
   "outputs": [],
   "source": [
    "bus = Bus('diesel', 100)\n",
    "\n",
    "print(bus)\n",
    "bus.drive_miles(10)\n",
    "print(bus)\n",
    "\n",
    "assert bus.fuel == 85, 'Condition not met!' # This will print an error if this condition is not met. \n",
    "assert np.isclose(bus.fuel, 85) # isclose is useful to check numbers are close -- this gets around rounding errors."
   ]
  },
  {
   "cell_type": "markdown",
   "metadata": {},
   "source": [
    "Notice that the `__repr__` function we have defined determines what we see when we `print(bus)`.\n",
    "\n",
    "The first task in this session will revolve around running and enhancing the bus class."
   ]
  },
  {
   "cell_type": "markdown",
   "metadata": {},
   "source": [
    "## Task A: Modifying the Bus class ##"
   ]
  },
  {
   "cell_type": "markdown",
   "metadata": {},
   "source": [
    "**A1.** Modify the `Bus` class so it tracks how many miles the bus has driven. Then, create a bus that starts with 50 litres of eco fuel. Drive the bus until it stops moving and record how far it has moved."
   ]
  },
  {
   "cell_type": "code",
   "execution_count": null,
   "metadata": {},
   "outputs": [],
   "source": []
  },
  {
   "cell_type": "markdown",
   "metadata": {},
   "source": [
    "**A2.** Modify the `Bus` class so it can take passengers up to a specified capacity by passing in a new input argument `capacity` to `__init__`. Add a function that allows passengers to board, and another function that allows passengers to disembark. Then, simulate the journey below and check that at the end of the journey (i) the number of passengers, (ii) the number of miles travelled, (iii) the fuel remaining are all correct.\n",
    "\n",
    "```\n",
    "An eco bus with a capacity of 40 seats, and 50 litres of fuels drives 4 miles to the first bus stop. \n",
    "There are 4 passengers waiting who board the bus.\n",
    "The bus drives 3 miles to the second bus stop.\n",
    "2 passengers disembark from this bus.\n",
    "There are 47 passengers waiting outside the bus as this is a busy stop!\n",
    "Passengers board the bus until it is full.\n",
    "The bus drives 7 miles to the third bus stop.\n",
    "22 passengers disembark, and 12 passengers board.\n",
    "```\n",
    "\n"
   ]
  },
  {
   "cell_type": "code",
   "execution_count": null,
   "metadata": {},
   "outputs": [],
   "source": []
  },
  {
   "cell_type": "markdown",
   "metadata": {},
   "source": [
    "**A3.** Each passenger pays £2.50 to board a diesel bus, and £2 to board an eco bus. Modify the `Bus` class to reflect this, and track the amount of money spent by passengers. Simulate the above journey and confirm that £108 has been spent.\n",
    "\n"
   ]
  },
  {
   "cell_type": "code",
   "execution_count": null,
   "metadata": {},
   "outputs": [],
   "source": []
  },
  {
   "cell_type": "markdown",
   "metadata": {},
   "source": [
    "**A4.** Change the `Bus` class so that fuel consumption increases by 1% for each passenger on board and check this against your calculations for the above journey."
   ]
  },
  {
   "cell_type": "code",
   "execution_count": null,
   "metadata": {},
   "outputs": [],
   "source": []
  },
  {
   "cell_type": "markdown",
   "metadata": {},
   "source": [
    "## Task B: The Taxi class ## \n",
    "\n",
    "Now consider a taxi picking up passengers. The taxi has a meter to work out how much to charge the passengers. When the passengers enter the taxi, the meter starts at £2.50, and then it increases by £1 for every mile the taxi travels"
   ]
  },
  {
   "cell_type": "markdown",
   "metadata": {},
   "source": [
    "\n",
    "**B1.** Create a new class `Taxi` that inherits from `Bus`. Rewrite the board and disembark functions within the `Taxi` class to account for the taxi's meter. You may find it useful to start with:\n",
    "```\n",
    "class Taxi(Bus):\n",
    "\n",
    "    def __init__(self, fuel_type, initial_fuel, capacity):\n",
    "        super().__init__(fuel_type, initial_fuel, capacity)\n",
    "        <MORE CODE>\n",
    "```\n",
    "\n",
    "`super` calls the `__init__` function of the base class (Bus). This is quicker than redefining the whole `__init__` function for this derived class (Taxi)."
   ]
  },
  {
   "cell_type": "code",
   "execution_count": null,
   "metadata": {},
   "outputs": [],
   "source": []
  },
  {
   "cell_type": "markdown",
   "metadata": {},
   "source": [
    "**B2.** Simulate the following journey. The taxi in question uses petrol, which has a fuel usage of 1.0 per mile.\n",
    "\n",
    "```\n",
    "The taxi drives 5 miles to and picks up 3 passengers.\n",
    "The taxi drives 2 miles and drops off the 3 passengers.\n",
    "The taxi drives 2 miles to pick up 2 passengers.\n",
    "The taxi drives 7 miles and drops off the 2 passengers.\n",
    "```"
   ]
  },
  {
   "cell_type": "code",
   "execution_count": null,
   "metadata": {},
   "outputs": [],
   "source": []
  },
  {
   "cell_type": "markdown",
   "metadata": {},
   "source": [
    "**B3.** Create a new class that represents a passenger. That passenger should have a name and wallet. The `Taxi` should now take in a **list** of passengers, whose wallets are updated as they leave the taxi. Now simulate the following journey, and check that the amount of money in Usain's wallet is correct.\n",
    "\n",
    "```\n",
    "Each passenger starts the day with £10 in their wallet.\n",
    "The taxi drives 5 miles to and picks up Rachel, Bob, and Usain.\n",
    "The taxi drives 2 miles and drops off Rachel, Bob and Usain who split the fare evenly.\n",
    "The taxi drives 2 miles to pick up 2 passengers: Dave and Usain. This is the same Usain from earlier because he ran extremely fast to catch up with the taxi.\n",
    "The taxi drives 7 miles and drops off Dave and Usain who split the fare evenly.\n",
    "```"
   ]
  },
  {
   "cell_type": "code",
   "execution_count": null,
   "metadata": {},
   "outputs": [],
   "source": []
  }
 ],
 "metadata": {
  "kernelspec": {
   "display_name": "Python 3",
   "language": "python",
   "name": "python3"
  },
  "language_info": {
   "codemirror_mode": {
    "name": "ipython",
    "version": 3
   },
   "file_extension": ".py",
   "mimetype": "text/x-python",
   "name": "python",
   "nbconvert_exporter": "python",
   "pygments_lexer": "ipython3",
   "version": "3.8.3"
  }
 },
 "nbformat": 4,
 "nbformat_minor": 4
}
