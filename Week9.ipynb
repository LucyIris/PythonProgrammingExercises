{
 "cells": [
  {
   "cell_type": "markdown",
   "metadata": {},
   "source": [
    "## Week 9: Pair Programming - The Iris Dataset\n",
    "\n",
    "### Task A: Data Analysis\n",
    "\n",
    "The Iris flower dataset was composed by Ronald Fisher in 1936. It consists of 150 data points, each corresponding to a particular iris.\n",
    "\n",
    "Each data point consists of 4 measurements (in cm) and a label corresponding to the exact species of that iris: setosa, virginica, or versicolor.\n",
    "\n",
    "We can load this dataset in Python through `sklearn` using the code below.\n",
    "\n",
    "- `iris.data` gives you a $150\\times 4$ array where each row `iris.data[i,:]` contains the 4 measurements for data point `i`\n",
    "\n",
    "- `iris.feature_names` tell you what each of the 4 measurements are\n",
    "\n",
    "- `iris.target` gives you an array of size $150$ where `iris.target[i]` is a numbered label for data point `i`\n",
    "\n",
    "- `iris.target_names` tells you which species each numbered label corresponds to"
   ]
  },
  {
   "cell_type": "code",
   "execution_count": null,
   "metadata": {},
   "outputs": [],
   "source": [
    "import sklearn.datasets # If you are running this locally, then `pip install sklearn` in your Python environment.\n",
    "import matplotlib.pyplot as plt\n",
    "import numpy as np\n",
    "import scipy \n",
    "\n",
    "iris = sklearn.datasets.load_iris()"
   ]
  },
  {
   "cell_type": "markdown",
   "metadata": {},
   "source": [
    "**A1.** Write a function that takes in an index `i` and prints out a verbose desciption of the species and measurements for data point `i`. For example:\n",
    "\n",
    "```\n",
    "Data point 5 is of the species setosa\n",
    "Its sepal length (cm) is 5.4\n",
    "Its sepal width (cm) is 3.9\n",
    "Its petal length (cm) is 1.7\n",
    "Its petal width (cm) is 0.4\n",
    "```"
   ]
  },
  {
   "cell_type": "code",
   "execution_count": null,
   "metadata": {},
   "outputs": [],
   "source": []
  },
  {
   "cell_type": "markdown",
   "metadata": {},
   "source": [
    "**A2.** Compute the mean and standard deviation of each measurement for each of three species.\n",
    "\n"
   ]
  },
  {
   "cell_type": "code",
   "execution_count": null,
   "metadata": {},
   "outputs": [],
   "source": []
  },
  {
   "cell_type": "markdown",
   "metadata": {},
   "source": [
    "**A3.** Produce a scatter plot of petal width vs. petal length for each iris. Use a different colour for each of the three species and label these using `plt.legend`."
   ]
  },
  {
   "cell_type": "code",
   "execution_count": null,
   "metadata": {},
   "outputs": [],
   "source": []
  },
  {
   "cell_type": "markdown",
   "metadata": {},
   "source": [
    "**A4.** Produce a 3D scatter point of petal width vs. petal length vs. sepal length for each iris. Again, use a different colour for each species. Which species is easiest to identify?"
   ]
  },
  {
   "cell_type": "code",
   "execution_count": null,
   "metadata": {},
   "outputs": [],
   "source": []
  },
  {
   "cell_type": "markdown",
   "metadata": {},
   "source": [
    "### Task B: Learning a Classifier \n",
    "\n",
    "The four measurements for a data point may be used as a feature vector $\\mathbf{x_i}$. Each measurement of the iris is a feature.\n",
    "\n",
    "$$\\mathbf{x_i}= [feature_0, feature_1, feature_2, feature_3]^{T}$$\n",
    "\n",
    "In this task we will learn a classifier to determine from a feature vector, whether an iris is (1) a setosa, or (2) not a setosa (non-setosa).\n",
    "\n",
    "Our classifier is a model that outputs the probability of a feature vector being a setosa. It takes the following form:\n",
    "\n",
    "$$ \\text{p}( \\text{setosa} | \\mathbf{x_i}) = \\sigma(\\mathbf{w^T}\\mathbf{x_i})$$\n",
    "\n",
    "where $\\mathbf{w}$ is a vector of learnable parameters $\\mathbf{w} = [weight_0, weight_1, weight_2, weight_3]^{T}$.\n",
    "\n",
    "Note that our model is outputing a probability, which is a single number between 0 and 1. $\\sigma$ is the sigmoid function that squishes $\\mathbf{w^T}\\mathbf{x_i}$ between these values.\n",
    "\n",
    "$$\\sigma(\\mathbf{w^T}\\mathbf{x_i}) = \\frac{1}{1+e^{-\\mathbf{w^T}\\mathbf{x_i}}}$$"
   ]
  },
  {
   "cell_type": "markdown",
   "metadata": {},
   "source": [
    "**B1.** Plot the sigmoid function and confirm it behaves in a suitable manner."
   ]
  },
  {
   "cell_type": "code",
   "execution_count": null,
   "metadata": {},
   "outputs": [],
   "source": []
  },
  {
   "cell_type": "markdown",
   "metadata": {},
   "source": [
    "**B2.** When we learn a classifier, we create a training and validation set. The training set is used to learn the actual classifier, and the validation set is used to verify the performance of the classifier. Create a training set that consists of 25 data points of setosas, and 25 data points of non-setosa."
   ]
  },
  {
   "cell_type": "code",
   "execution_count": null,
   "metadata": {},
   "outputs": [],
   "source": []
  },
  {
   "cell_type": "markdown",
   "metadata": {},
   "source": [
    "**B3.** Create a validation set that consists of 25 setosas, and 25 non-setosas. The data points in the validation set must **not** overlap with those used to create the training set."
   ]
  },
  {
   "cell_type": "code",
   "execution_count": null,
   "metadata": {},
   "outputs": [],
   "source": []
  },
  {
   "cell_type": "markdown",
   "metadata": {},
   "source": [
    "**B4.** Learn a classifier using your training data that finds the $\\mathbf{w}$ that minimises the loss function below, where $y_i=1$ for a data point that corresponds to a setosa, and $y_i=0$ for a data point that is non-setosa. Use the CG method (https://docs.scipy.org/doc/scipy/reference/optimize.minimize-cg.html).\n",
    "\n",
    "$$L(\\mathbf{w}) = \\frac{1}{50}\\sum_{i=0}^{49} -y_i \\log \\text{p}( \\text{setosa} | \\mathbf{x_i}) - (1-y_i) \\log   \\text{p}   ( \\text{non-setosa} | \\mathbf{x_i})$$\n",
    "\n",
    "*This loss function may seem complicated, but the important thing to know is that it is low when we classify setosas as setosas, and non-setosas as non-setosas!*\n",
    "\n"
   ]
  },
  {
   "cell_type": "code",
   "execution_count": null,
   "metadata": {},
   "outputs": [],
   "source": []
  },
  {
   "cell_type": "markdown",
   "metadata": {},
   "source": [
    "**B5.** Apply your learnt classifier to the validation set. If the classifier outputs a probability lower than 0.5, it classifies a data point as **non-setosa**. If it outputs a probability higher than 0.5 it classifies a data point as **setosa**. Report the accuracy of the classifier. This is the percentage of correct classifications.\n",
    "\n",
    "\n"
   ]
  },
  {
   "cell_type": "code",
   "execution_count": null,
   "metadata": {},
   "outputs": [],
   "source": []
  }
 ],
 "metadata": {
  "kernelspec": {
   "display_name": "Python 3",
   "language": "python",
   "name": "python3"
  },
  "language_info": {
   "codemirror_mode": {
    "name": "ipython",
    "version": 3
   },
   "file_extension": ".py",
   "mimetype": "text/x-python",
   "name": "python",
   "nbconvert_exporter": "python",
   "pygments_lexer": "ipython3",
   "version": "3.8.3"
  }
 },
 "nbformat": 4,
 "nbformat_minor": 4
}
