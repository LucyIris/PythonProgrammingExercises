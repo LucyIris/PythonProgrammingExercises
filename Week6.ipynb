{
 "cells": [
  {
   "cell_type": "markdown",
   "metadata": {},
   "source": [
    "## Week 6: Pair Programming using Vectors and Matrices in NumPy\n",
    "\n",
    "### Task A: Translating and rotating shapes\n",
    "\n",
    "Consider a zero-centred ellipse with major axis length $2a$ and minor axis length $2b$. This has an area of $\\pi a b$. The ellipse is defined by the equation:\n",
    "\n",
    "$$\\frac{x^2}{a^2} + \\frac{y^2}{b^2} = 1$$\n",
    "\n",
    "In this task we will consider an ellipse where $a=5$ and $b=2$. We can represent the ellipse in NumPy as a set of discrete points $\\begin{bmatrix}\n",
    "x_i \\\\\n",
    "y_i\\end{bmatrix}$ that satisfy the above equation."
   ]
  },
  {
   "cell_type": "markdown",
   "metadata": {},
   "source": [
    "**A1.** Use the `my_plot` function defined below to draw this ellipse."
   ]
  },
  {
   "cell_type": "code",
   "execution_count": null,
   "metadata": {},
   "outputs": [],
   "source": [
    "import numpy as np\n",
    "import matplotlib.pyplot as plt\n",
    "\n",
    "def my_plot(x, y):\n",
    "    \"\"\" This function takes in an array of points x=[x1,x2,...] and y=[y1,y2,...] and produces a scatter plot\"\"\"\n",
    "    fig = plt.figure()\n",
    "    ax = fig.add_subplot(111) # This lets us adjust the axes\n",
    "    ax.set_aspect('equal', adjustable='box') # This makes sure the grid is square\n",
    "    plt.xlim(-10, 10) # limit x axes\n",
    "    plt.ylim(-10, 10) # limit y axes\n",
    "    plt.grid() # add a grid\n",
    "    plt.scatter(x,y)\n",
    "\n",
    "# Your code goes here!"
   ]
  },
  {
   "cell_type": "markdown",
   "metadata": {},
   "source": [
    "**A2.** Construct a rotation matrix $\\mathbf{R}=\n",
    "\\begin{bmatrix}\n",
    "\\cos \\theta & -\\sin \\theta \\\\\n",
    "\\sin \\theta & \\cos \\theta\\end{bmatrix}$ and use this to draw the original ellipse rotated by 60 degrees anti-clockwise about the origin."
   ]
  },
  {
   "cell_type": "code",
   "execution_count": null,
   "metadata": {},
   "outputs": [],
   "source": []
  },
  {
   "cell_type": "markdown",
   "metadata": {},
   "source": [
    "**A3.** Compute the determinant of $\\mathbf{R}$ using `np.linalg.det` for $\\theta={30^o,60^o,90^o}$. What do you notice?\n",
    "\n"
   ]
  },
  {
   "cell_type": "code",
   "execution_count": null,
   "metadata": {},
   "outputs": [],
   "source": []
  },
  {
   "cell_type": "markdown",
   "metadata": {},
   "source": [
    "**A4.** Transform the original **un-rotated** ellipse using the matrix $\\mathbf{M}=\n",
    "\\begin{bmatrix}\n",
    "1 & 0 \\\\\n",
    "0 & 2.5\n",
    "\\end{bmatrix}\n",
    "$ and plot the resulting shape.\n",
    "\n"
   ]
  },
  {
   "cell_type": "code",
   "execution_count": null,
   "metadata": {},
   "outputs": [],
   "source": []
  },
  {
   "cell_type": "markdown",
   "metadata": {},
   "source": [
    "**A5.** Compute the determinant of $\\mathbf{M}$ and comment on its significance.\n",
    "\n"
   ]
  },
  {
   "cell_type": "code",
   "execution_count": null,
   "metadata": {},
   "outputs": [],
   "source": []
  },
  {
   "cell_type": "markdown",
   "metadata": {},
   "source": [
    "### Task B: Finding the dominant eigenvector of a matrix using the Power method\n",
    "\n",
    "The Power Method is an iterative algorithm that finds the domininant eigenvector of a matrix $\\mathbf{A}$(i.e. the eigenvector associated with the largest eigenvalue).\n",
    "\n",
    "We start by creating a vector $b_0$ that contains a *guess* of this eigenvector. We then update $b_0$ to $b_1$ using the following recurrence relation:\n",
    "\n",
    "$$b_{i+1} = \\frac{\\mathbf{A} b_i}{||\\mathbf{A}b_i||_2}$$\n",
    "\n",
    "We then use $b_1$ in the above relation to produce $b_2$ etc. After several iterations, our $b$ will (usually!) convergence to the dominant eigenvector."
   ]
  },
  {
   "cell_type": "markdown",
   "metadata": {},
   "source": [
    "**B1.** Write a function that takes in a matrix $\\mathbf{A}$, a vector $b_0$, and a scalar $n$. This function should perform the Power method for $n$ iterations.\n",
    "\n"
   ]
  },
  {
   "cell_type": "code",
   "execution_count": null,
   "metadata": {},
   "outputs": [],
   "source": []
  },
  {
   "cell_type": "markdown",
   "metadata": {},
   "source": [
    "**B2.** Use the Power method to compute the dominant eigenvector of the matrix $\\mathbf{A}=\n",
    "\\begin{bmatrix}\n",
    "2 & -4 & 3 \\\\\n",
    "-2 & 1 & 2 \\\\\n",
    "1 & 2 & 4 \\\\\n",
    "\\end{bmatrix}\n",
    "$. Then, use `np.linalg.eig` to check your answer.\n",
    "\n"
   ]
  },
  {
   "cell_type": "code",
   "execution_count": null,
   "metadata": {},
   "outputs": [],
   "source": []
  },
  {
   "cell_type": "markdown",
   "metadata": {},
   "source": [
    "**B3.** Multiply $\\mathbf{A}$ by its dominant eigenvector. Then compute the angle between this new vector and the dominant eigenvector. What is the significance of this?"
   ]
  },
  {
   "cell_type": "code",
   "execution_count": null,
   "metadata": {},
   "outputs": [],
   "source": []
  }
 ],
 "metadata": {
  "kernelspec": {
   "display_name": "Python 3",
   "language": "python",
   "name": "python3"
  },
  "language_info": {
   "codemirror_mode": {
    "name": "ipython",
    "version": 3
   },
   "file_extension": ".py",
   "mimetype": "text/x-python",
   "name": "python",
   "nbconvert_exporter": "python",
   "pygments_lexer": "ipython3",
   "version": "3.8.3"
  }
 },
 "nbformat": 4,
 "nbformat_minor": 4
}
